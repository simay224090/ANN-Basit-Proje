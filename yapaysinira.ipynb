{
  "nbformat": 4,
  "nbformat_minor": 0,
  "metadata": {
    "colab": {
      "provenance": [],
      "authorship_tag": "ABX9TyMfv32Ud+NPooFAs0mbFafX",
      "include_colab_link": true
    },
    "kernelspec": {
      "name": "python3",
      "display_name": "Python 3"
    },
    "language_info": {
      "name": "python"
    }
  },
  "cells": [
    {
      "cell_type": "markdown",
      "metadata": {
        "id": "view-in-github",
        "colab_type": "text"
      },
      "source": [
        "<a href=\"https://colab.research.google.com/github/simay224090/ANN-Basit-Proje/blob/main/yapaysinira.ipynb\" target=\"_parent\"><img src=\"https://colab.research.google.com/assets/colab-badge.svg\" alt=\"Open In Colab\"/></a>"
      ]
    },
    {
      "cell_type": "code",
      "execution_count": null,
      "metadata": {
        "colab": {
          "base_uri": "https://localhost:8080/"
        },
        "id": "iJ123dskvb6Q",
        "outputId": "bad900a0-c37e-4103-e955-d390762addc4"
      },
      "outputs": [
        {
          "output_type": "stream",
          "name": "stdout",
          "text": [
            "   6  148  72  35    0  33.6  0.627  50  1\n",
            "0  1   85  66  29    0  26.6  0.351  31  0\n",
            "1  8  183  64   0    0  23.3  0.672  32  1\n",
            "2  1   89  66  23   94  28.1  0.167  21  0\n",
            "3  0  137  40  35  168  43.1  2.288  33  1\n",
            "4  5  116  74   0    0  25.6  0.201  30  0\n",
            "6        0\n",
            "148      0\n",
            "72       0\n",
            "35       0\n",
            "0        0\n",
            "33.6     0\n",
            "0.627    0\n",
            "50       0\n",
            "1        0\n",
            "dtype: int64\n"
          ]
        }
      ],
      "source": [
        "import numpy as np\n",
        "import torch\n",
        "import torch.nn as nn\n",
        "import torch.optim as optim\n",
        "import pandas as pd\n",
        "\n",
        "dataset = pd.read_csv('pima-indians-diabetes.csv')\n",
        "# Başlık satırını kontrol etmek için\n",
        "print(dataset.head())\n",
        "# Boş veya hatalı değerleri kontrol et\n",
        "print(dataset.isnull().sum())\n",
        "\n",
        "# Boş değerleri doldurun veya atın\n",
        "dataset = dataset.dropna()\n",
        "\n",
        "\n",
        "import numpy as np\n",
        "\n",
        "X = dataset.iloc[:, 0:8].values\n",
        "y = dataset.iloc[:, 8].values\n",
        "\n",
        "dataset = pd.read_csv('pima-indians-diabetes.csv', encoding='utf-8-sig')\n"
      ]
    },
    {
      "cell_type": "code",
      "source": [
        "X = torch.tensor(X, dtype=torch.float32)\n",
        "y = torch.tensor(y, dtype=torch.float32).reshape(-1, 1)"
      ],
      "metadata": {
        "colab": {
          "base_uri": "https://localhost:8080/"
        },
        "id": "0PU8FljMzGLr",
        "outputId": "1d1261d3-aa9e-4819-a3f8-f7f9d75ce08c"
      },
      "execution_count": null,
      "outputs": [
        {
          "output_type": "stream",
          "name": "stderr",
          "text": [
            "<ipython-input-13-1b22176d8fdd>:1: UserWarning: To copy construct from a tensor, it is recommended to use sourceTensor.clone().detach() or sourceTensor.clone().detach().requires_grad_(True), rather than torch.tensor(sourceTensor).\n",
            "  X = torch.tensor(X, dtype=torch.float32)\n",
            "<ipython-input-13-1b22176d8fdd>:2: UserWarning: To copy construct from a tensor, it is recommended to use sourceTensor.clone().detach() or sourceTensor.clone().detach().requires_grad_(True), rather than torch.tensor(sourceTensor).\n",
            "  y = torch.tensor(y, dtype=torch.float32).reshape(-1, 1)\n"
          ]
        }
      ]
    },
    {
      "cell_type": "markdown",
      "source": [],
      "metadata": {
        "id": "45kqPxrSyW5m"
      }
    }
  ]
}